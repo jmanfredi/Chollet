{
 "cells": [
  {
   "cell_type": "code",
   "execution_count": 1,
   "metadata": {},
   "outputs": [
    {
     "name": "stderr",
     "output_type": "stream",
     "text": [
      "/home/ubuntu/anaconda3/envs/tensorflow_p36/lib/python3.6/site-packages/h5py/__init__.py:36: FutureWarning: Conversion of the second argument of issubdtype from `float` to `np.floating` is deprecated. In future, it will be treated as `np.float64 == np.dtype(float).type`.\n",
      "  from ._conv import register_converters as _register_converters\n",
      "Using TensorFlow backend.\n",
      "/home/ubuntu/anaconda3/envs/tensorflow_p36/lib/python3.6/site-packages/matplotlib/__init__.py:1067: UserWarning: Duplicate key in file \"/home/ubuntu/.config/matplotlib/matplotlibrc\", line #2\n",
      "  (fname, cnt))\n",
      "/home/ubuntu/anaconda3/envs/tensorflow_p36/lib/python3.6/site-packages/matplotlib/__init__.py:1067: UserWarning: Duplicate key in file \"/home/ubuntu/.config/matplotlib/matplotlibrc\", line #3\n",
      "  (fname, cnt))\n"
     ]
    }
   ],
   "source": [
    "from keras import models\n",
    "from keras import layers"
   ]
  },
  {
   "cell_type": "code",
   "execution_count": 2,
   "metadata": {},
   "outputs": [],
   "source": [
    "model = models.Sequential()\n",
    "model.add(layers.Dense(4, activation='relu', input_shape=(10000,)))\n",
    "model.add(layers.Dense(4, activation='relu'))\n",
    "model.add(layers.Dense(1, activation='sigmoid'))"
   ]
  },
  {
   "cell_type": "code",
   "execution_count": 3,
   "metadata": {},
   "outputs": [
    {
     "name": "stdout",
     "output_type": "stream",
     "text": [
      "Downloading data from https://s3.amazonaws.com/text-datasets/imdb.npz\n",
      "17465344/17464789 [==============================] - 0s 0us/step\n"
     ]
    }
   ],
   "source": [
    "from keras.datasets import imdb\n",
    "(train_data, train_labels), (test_data, test_labels) = imdb.load_data(num_words = 10000)"
   ]
  },
  {
   "cell_type": "code",
   "execution_count": 5,
   "metadata": {},
   "outputs": [],
   "source": [
    "import numpy as np\n",
    "\n",
    "def vectorize_sequences(sequences, dimension=10000):\n",
    "    results = np.zeros((len(sequences), dimension))\n",
    "    for i, sequence in enumerate(sequences):\n",
    "        results[i, sequence] = 1.\n",
    "    return results\n",
    "\n",
    "x_train = vectorize_sequences(train_data)\n",
    "x_test = vectorize_sequences(test_data)\n",
    "y_train = np.asarray(train_labels).astype('float32')\n",
    "y_test = np.asarray(test_labels).astype('float32')"
   ]
  },
  {
   "cell_type": "code",
   "execution_count": 6,
   "metadata": {},
   "outputs": [
    {
     "name": "stdout",
     "output_type": "stream",
     "text": [
      "Train on 15000 samples, validate on 10000 samples\n",
      "Epoch 1/20\n",
      "15000/15000 [==============================] - 2s 144us/step - loss: 0.6098 - acc: 0.7491 - val_loss: 0.5388 - val_acc: 0.8473\n",
      "Epoch 2/20\n",
      "15000/15000 [==============================] - 1s 90us/step - loss: 0.4753 - acc: 0.8767 - val_loss: 0.4449 - val_acc: 0.8693\n",
      "Epoch 3/20\n",
      "15000/15000 [==============================] - 1s 89us/step - loss: 0.3799 - acc: 0.9053 - val_loss: 0.3797 - val_acc: 0.8767\n",
      "Epoch 4/20\n",
      "15000/15000 [==============================] - 1s 90us/step - loss: 0.3103 - acc: 0.9187 - val_loss: 0.3357 - val_acc: 0.8843\n",
      "Epoch 5/20\n",
      "15000/15000 [==============================] - 1s 91us/step - loss: 0.2625 - acc: 0.9287 - val_loss: 0.3091 - val_acc: 0.8892\n",
      "Epoch 6/20\n",
      "15000/15000 [==============================] - 1s 91us/step - loss: 0.2275 - acc: 0.9371 - val_loss: 0.2954 - val_acc: 0.8892\n",
      "Epoch 7/20\n",
      "15000/15000 [==============================] - 1s 90us/step - loss: 0.2003 - acc: 0.9439 - val_loss: 0.2849 - val_acc: 0.8901\n",
      "Epoch 8/20\n",
      "15000/15000 [==============================] - 1s 89us/step - loss: 0.1792 - acc: 0.9500 - val_loss: 0.2806 - val_acc: 0.8898\n",
      "Epoch 9/20\n",
      "15000/15000 [==============================] - 1s 90us/step - loss: 0.1610 - acc: 0.9549 - val_loss: 0.2881 - val_acc: 0.8831\n",
      "Epoch 10/20\n",
      "15000/15000 [==============================] - 1s 90us/step - loss: 0.1469 - acc: 0.9589 - val_loss: 0.2760 - val_acc: 0.8896\n",
      "Epoch 11/20\n",
      "15000/15000 [==============================] - 1s 91us/step - loss: 0.1339 - acc: 0.9622 - val_loss: 0.2797 - val_acc: 0.8887\n",
      "Epoch 12/20\n",
      "15000/15000 [==============================] - 1s 89us/step - loss: 0.1224 - acc: 0.9667 - val_loss: 0.2840 - val_acc: 0.8868\n",
      "Epoch 13/20\n",
      "15000/15000 [==============================] - 1s 90us/step - loss: 0.1121 - acc: 0.9705 - val_loss: 0.2866 - val_acc: 0.8876\n",
      "Epoch 14/20\n",
      "15000/15000 [==============================] - 1s 90us/step - loss: 0.1026 - acc: 0.9739 - val_loss: 0.2928 - val_acc: 0.8857\n",
      "Epoch 15/20\n",
      "15000/15000 [==============================] - 1s 91us/step - loss: 0.0947 - acc: 0.9761 - val_loss: 0.3076 - val_acc: 0.8851\n",
      "Epoch 16/20\n",
      "15000/15000 [==============================] - 1s 91us/step - loss: 0.0872 - acc: 0.9790 - val_loss: 0.3063 - val_acc: 0.8842\n",
      "Epoch 17/20\n",
      "15000/15000 [==============================] - 1s 90us/step - loss: 0.0798 - acc: 0.9809 - val_loss: 0.3197 - val_acc: 0.8824\n",
      "Epoch 18/20\n",
      "15000/15000 [==============================] - 1s 89us/step - loss: 0.0736 - acc: 0.9833 - val_loss: 0.3237 - val_acc: 0.8821\n",
      "Epoch 19/20\n",
      "15000/15000 [==============================] - 1s 90us/step - loss: 0.0671 - acc: 0.9859 - val_loss: 0.3405 - val_acc: 0.8806\n",
      "Epoch 20/20\n",
      "15000/15000 [==============================] - 1s 90us/step - loss: 0.0617 - acc: 0.9874 - val_loss: 0.3482 - val_acc: 0.8772\n"
     ]
    }
   ],
   "source": [
    "x_val = x_train[:10000]\n",
    "partial_x_train = x_train[10000:]\n",
    "y_val = y_train[:10000]\n",
    "partial_y_train = y_train[10000:]\n",
    "\n",
    "model.compile(optimizer='rmsprop',\n",
    "             loss='binary_crossentropy',\n",
    "             metrics=['acc'])\n",
    "\n",
    "history = model.fit(partial_x_train,\n",
    "                   partial_y_train,\n",
    "                   epochs = 20,\n",
    "                   batch_size=512,\n",
    "                    validation_data=(x_val,y_val))"
   ]
  },
  {
   "cell_type": "code",
   "execution_count": 7,
   "metadata": {},
   "outputs": [],
   "source": [
    "modelBig = models.Sequential()\n",
    "modelBig.add(layers.Dense(16, activation='relu', input_shape=(10000,)))\n",
    "modelBig.add(layers.Dense(16, activation='relu'))\n",
    "modelBig.add(layers.Dense(1, activation='sigmoid'))"
   ]
  },
  {
   "cell_type": "code",
   "execution_count": 8,
   "metadata": {},
   "outputs": [
    {
     "name": "stdout",
     "output_type": "stream",
     "text": [
      "Train on 15000 samples, validate on 10000 samples\n",
      "Epoch 1/20\n",
      "15000/15000 [==============================] - 2s 113us/step - loss: 0.5326 - acc: 0.7917 - val_loss: 0.4064 - val_acc: 0.8700\n",
      "Epoch 2/20\n",
      "15000/15000 [==============================] - 1s 99us/step - loss: 0.3258 - acc: 0.8987 - val_loss: 0.3154 - val_acc: 0.8851\n",
      "Epoch 3/20\n",
      "15000/15000 [==============================] - 1s 99us/step - loss: 0.2357 - acc: 0.9245 - val_loss: 0.2827 - val_acc: 0.8899\n",
      "Epoch 4/20\n",
      "15000/15000 [==============================] - 1s 100us/step - loss: 0.1866 - acc: 0.9397 - val_loss: 0.2862 - val_acc: 0.8838\n",
      "Epoch 5/20\n",
      "15000/15000 [==============================] - 1s 97us/step - loss: 0.1502 - acc: 0.9521 - val_loss: 0.2768 - val_acc: 0.8887\n",
      "Epoch 6/20\n",
      "15000/15000 [==============================] - 1s 97us/step - loss: 0.1256 - acc: 0.9615 - val_loss: 0.3118 - val_acc: 0.8800\n",
      "Epoch 7/20\n",
      "15000/15000 [==============================] - 1s 98us/step - loss: 0.1045 - acc: 0.9687 - val_loss: 0.3120 - val_acc: 0.8837\n",
      "Epoch 8/20\n",
      "15000/15000 [==============================] - 1s 98us/step - loss: 0.0882 - acc: 0.9730 - val_loss: 0.3211 - val_acc: 0.8817\n",
      "Epoch 9/20\n",
      "15000/15000 [==============================] - 1s 99us/step - loss: 0.0736 - acc: 0.9792 - val_loss: 0.3548 - val_acc: 0.8819\n",
      "Epoch 10/20\n",
      "15000/15000 [==============================] - 1s 100us/step - loss: 0.0595 - acc: 0.9851 - val_loss: 0.3971 - val_acc: 0.8744\n",
      "Epoch 11/20\n",
      "15000/15000 [==============================] - 1s 97us/step - loss: 0.0508 - acc: 0.9863 - val_loss: 0.3904 - val_acc: 0.8782\n",
      "Epoch 12/20\n",
      "15000/15000 [==============================] - 1s 97us/step - loss: 0.0396 - acc: 0.9912 - val_loss: 0.4199 - val_acc: 0.8742\n",
      "Epoch 13/20\n",
      "15000/15000 [==============================] - 2s 100us/step - loss: 0.0335 - acc: 0.9933 - val_loss: 0.4490 - val_acc: 0.8725\n",
      "Epoch 14/20\n",
      "15000/15000 [==============================] - 1s 98us/step - loss: 0.0278 - acc: 0.9943 - val_loss: 0.4748 - val_acc: 0.8734\n",
      "Epoch 15/20\n",
      "15000/15000 [==============================] - 1s 97us/step - loss: 0.0239 - acc: 0.9947 - val_loss: 0.5067 - val_acc: 0.8704\n",
      "Epoch 16/20\n",
      "15000/15000 [==============================] - 1s 98us/step - loss: 0.0164 - acc: 0.9979 - val_loss: 0.5940 - val_acc: 0.8555\n",
      "Epoch 17/20\n",
      "15000/15000 [==============================] - 1s 99us/step - loss: 0.0124 - acc: 0.9988 - val_loss: 0.5650 - val_acc: 0.8676\n",
      "Epoch 18/20\n",
      "15000/15000 [==============================] - 1s 100us/step - loss: 0.0112 - acc: 0.9988 - val_loss: 0.6037 - val_acc: 0.8653\n",
      "Epoch 19/20\n",
      "15000/15000 [==============================] - 1s 100us/step - loss: 0.0089 - acc: 0.9992 - val_loss: 0.6369 - val_acc: 0.8646\n",
      "Epoch 20/20\n",
      "15000/15000 [==============================] - 1s 99us/step - loss: 0.0078 - acc: 0.9982 - val_loss: 0.6863 - val_acc: 0.8683\n"
     ]
    }
   ],
   "source": [
    "modelBig.compile(optimizer='rmsprop',\n",
    "             loss='binary_crossentropy',\n",
    "             metrics=['acc'])\n",
    "\n",
    "historyBig = modelBig.fit(partial_x_train,\n",
    "                   partial_y_train,\n",
    "                   epochs = 20,\n",
    "                   batch_size=512,\n",
    "                    validation_data=(x_val,y_val))"
   ]
  },
  {
   "cell_type": "code",
   "execution_count": 10,
   "metadata": {},
   "outputs": [
    {
     "data": {
      "image/png": "[encoded data removed]",
      "text/plain": [
       "<Figure size 432x288 with 1 Axes>"
      ]
     },
     "metadata": {},
     "output_type": "display_data"
    }
   ],
   "source": [
    "import matplotlib.pyplot as plt\n",
    "\n",
    "history_dict = history.history\n",
    "historyBig_dict = historyBig.history\n",
    "loss_values = history_dict['loss']\n",
    "loss_values_big = historyBig_dict['loss']\n",
    "val_loss_values = history_dict['val_loss']\n",
    "val_loss_values_big = historyBig_dict['val_loss']\n",
    "\n",
    "epochs = range(1, len(loss_values) + 1)\n",
    "\n",
    "plt.plot(epochs, val_loss_values, 'bo', label='Smaller model')\n",
    "plt.plot(epochs, val_loss_values_big, 'b+', label='Original model')\n",
    "plt.xlabel('Epochs')\n",
    "plt.ylabel('Validation loss')\n",
    "plt.legend()\n",
    "\n",
    "plt.show()"
   ]
  },
  {
   "cell_type": "code",
   "execution_count": 11,
   "metadata": {},
   "outputs": [],
   "source": [
    "model_huge = models.Sequential()\n",
    "model_huge.add(layers.Dense(512, activation='relu', input_shape=(10000,)))\n",
    "model_huge.add(layers.Dense(512, activation='relu'))\n",
    "model_huge.add(layers.Dense(1, activation='sigmoid'))"
   ]
  },
  {
   "cell_type": "code",
   "execution_count": 12,
   "metadata": {},
   "outputs": [
    {
     "name": "stdout",
     "output_type": "stream",
     "text": [
      "Train on 15000 samples, validate on 10000 samples\n",
      "Epoch 1/20\n",
      "15000/15000 [==============================] - 2s 138us/step - loss: 0.5329 - acc: 0.7753 - val_loss: 0.2883 - val_acc: 0.8817\n",
      "Epoch 2/20\n",
      "15000/15000 [==============================] - 2s 119us/step - loss: 0.2727 - acc: 0.8928 - val_loss: 0.2917 - val_acc: 0.8820\n",
      "Epoch 3/20\n",
      "15000/15000 [==============================] - 2s 119us/step - loss: 0.1574 - acc: 0.9453 - val_loss: 0.2808 - val_acc: 0.8942\n",
      "Epoch 4/20\n",
      "15000/15000 [==============================] - 2s 120us/step - loss: 0.0808 - acc: 0.9707 - val_loss: 0.6719 - val_acc: 0.8182\n",
      "Epoch 5/20\n",
      "15000/15000 [==============================] - 2s 122us/step - loss: 0.1261 - acc: 0.9735 - val_loss: 0.3058 - val_acc: 0.8849\n",
      "Epoch 6/20\n",
      "15000/15000 [==============================] - 2s 120us/step - loss: 0.0062 - acc: 0.9997 - val_loss: 0.4429 - val_acc: 0.8869\n",
      "Epoch 7/20\n",
      "15000/15000 [==============================] - 2s 119us/step - loss: 8.2757e-04 - acc: 1.0000 - val_loss: 0.5394 - val_acc: 0.8873\n",
      "Epoch 8/20\n",
      "15000/15000 [==============================] - 2s 119us/step - loss: 1.2264e-04 - acc: 1.0000 - val_loss: 0.6396 - val_acc: 0.8856\n",
      "Epoch 9/20\n",
      "15000/15000 [==============================] - 2s 120us/step - loss: 2.3331e-05 - acc: 1.0000 - val_loss: 0.7109 - val_acc: 0.8845\n",
      "Epoch 10/20\n",
      "15000/15000 [==============================] - 2s 120us/step - loss: 4.9487e-06 - acc: 1.0000 - val_loss: 0.7685 - val_acc: 0.8870\n",
      "Epoch 11/20\n",
      "15000/15000 [==============================] - 2s 119us/step - loss: 1.4482e-06 - acc: 1.0000 - val_loss: 0.8181 - val_acc: 0.8860\n",
      "Epoch 12/20\n",
      "15000/15000 [==============================] - 2s 120us/step - loss: 4.9320e-07 - acc: 1.0000 - val_loss: 0.8633 - val_acc: 0.8864\n",
      "Epoch 13/20\n",
      "15000/15000 [==============================] - 2s 119us/step - loss: 2.2379e-07 - acc: 1.0000 - val_loss: 0.9016 - val_acc: 0.8851\n",
      "Epoch 14/20\n",
      "15000/15000 [==============================] - 2s 119us/step - loss: 1.4992e-07 - acc: 1.0000 - val_loss: 0.9256 - val_acc: 0.8855\n",
      "Epoch 15/20\n",
      "15000/15000 [==============================] - 2s 120us/step - loss: 1.2689e-07 - acc: 1.0000 - val_loss: 0.9408 - val_acc: 0.8867\n",
      "Epoch 16/20\n",
      "15000/15000 [==============================] - 2s 120us/step - loss: 1.1908e-07 - acc: 1.0000 - val_loss: 0.9500 - val_acc: 0.8866\n",
      "Epoch 17/20\n",
      "15000/15000 [==============================] - 2s 118us/step - loss: 1.1550e-07 - acc: 1.0000 - val_loss: 0.9566 - val_acc: 0.8865\n",
      "Epoch 18/20\n",
      "15000/15000 [==============================] - 2s 119us/step - loss: 1.1370e-07 - acc: 1.0000 - val_loss: 0.9622 - val_acc: 0.8857\n",
      "Epoch 19/20\n",
      "15000/15000 [==============================] - 2s 119us/step - loss: 1.1260e-07 - acc: 1.0000 - val_loss: 0.9663 - val_acc: 0.8864\n",
      "Epoch 20/20\n",
      "15000/15000 [==============================] - 2s 119us/step - loss: 1.1192e-07 - acc: 1.0000 - val_loss: 0.9696 - val_acc: 0.8860\n"
     ]
    }
   ],
   "source": [
    "model_huge.compile(optimizer='rmsprop',\n",
    "             loss='binary_crossentropy',\n",
    "             metrics=['acc'])\n",
    "\n",
    "history_huge = model_huge.fit(partial_x_train,\n",
    "                   partial_y_train,\n",
    "                   epochs = 20,\n",
    "                   batch_size=512,\n",
    "                    validation_data=(x_val,y_val))"
   ]
  },
  {
   "cell_type": "code",
   "execution_count": 13,
   "metadata": {},
   "outputs": [
    {
     "data": {
      "image/png": "[encoded data removed]",
      "text/plain": [
       "<Figure size 432x288 with 1 Axes>"
      ]
     },
     "metadata": {},
     "output_type": "display_data"
    }
   ],
   "source": [
    "history_dict_huge = history_huge.history\n",
    "historyBig_dict = historyBig.history\n",
    "loss_values_huge = history_dict_huge['loss']\n",
    "loss_values_big = historyBig_dict['loss']\n",
    "val_loss_values_huge = history_dict_huge['val_loss']\n",
    "val_loss_values_big = historyBig_dict['val_loss']\n",
    "\n",
    "epochs = range(1, len(loss_values_huge) + 1)\n",
    "\n",
    "plt.plot(epochs, val_loss_values_huge, 'bo', label='Bigger model')\n",
    "plt.plot(epochs, val_loss_values_big, 'b+', label='Original model')\n",
    "plt.xlabel('Epochs')\n",
    "plt.ylabel('Validation loss')\n",
    "plt.legend()\n",
    "\n",
    "plt.show()"
   ]
  },
  {
   "cell_type": "code",
   "execution_count": 14,
   "metadata": {},
   "outputs": [
    {
     "data": {
      "image/png": "[encoded data removed]",
      "text/plain": [
       "<Figure size 432x288 with 1 Axes>"
      ]
     },
     "metadata": {},
     "output_type": "display_data"
    }
   ],
   "source": [
    "plt.plot(epochs, loss_values_huge, 'bo', label='Bigger model')\n",
    "plt.plot(epochs, loss_values_big, 'b+', label='Original model')\n",
    "plt.xlabel('Epochs')\n",
    "plt.ylabel('Training loss')\n",
    "plt.legend()\n",
    "\n",
    "plt.show()"
   ]
  },
  {
   "cell_type": "code",
   "execution_count": 15,
   "metadata": {},
   "outputs": [],
   "source": [
    "from keras import regularizers\n",
    "\n",
    "model_l2 = models.Sequential()\n",
    "model_l2.add(layers.Dense(16, kernel_regularizer=regularizers.l2(0.001),\n",
    "                          activation='relu', input_shape=(10000,)))\n",
    "model_l2.add(layers.Dense(16, kernel_regularizer=regularizers.l2(0.001),\n",
    "                          activation='relu'))\n",
    "model_l2.add(layers.Dense(1, activation='sigmoid'))"
   ]
  },
  {
   "cell_type": "code",
   "execution_count": 16,
   "metadata": {},
   "outputs": [
    {
     "name": "stdout",
     "output_type": "stream",
     "text": [
      "Train on 15000 samples, validate on 10000 samples\n",
      "Epoch 1/20\n",
      "15000/15000 [==============================] - 2s 115us/step - loss: 0.5700 - acc: 0.7876 - val_loss: 0.4846 - val_acc: 0.8243\n",
      "Epoch 2/20\n",
      "15000/15000 [==============================] - 1s 93us/step - loss: 0.3755 - acc: 0.8954 - val_loss: 0.3678 - val_acc: 0.8756\n",
      "Epoch 3/20\n",
      "15000/15000 [==============================] - 1s 93us/step - loss: 0.2948 - acc: 0.9184 - val_loss: 0.3354 - val_acc: 0.8882\n",
      "Epoch 4/20\n",
      "15000/15000 [==============================] - 1s 94us/step - loss: 0.2553 - acc: 0.9304 - val_loss: 0.3374 - val_acc: 0.8826\n",
      "Epoch 5/20\n",
      "15000/15000 [==============================] - 1s 92us/step - loss: 0.2337 - acc: 0.9399 - val_loss: 0.3418 - val_acc: 0.8823\n",
      "Epoch 6/20\n",
      "15000/15000 [==============================] - 1s 91us/step - loss: 0.2180 - acc: 0.9466 - val_loss: 0.3330 - val_acc: 0.8848\n",
      "Epoch 7/20\n",
      "15000/15000 [==============================] - 1s 92us/step - loss: 0.2031 - acc: 0.9526 - val_loss: 0.3396 - val_acc: 0.8857\n",
      "Epoch 8/20\n",
      "15000/15000 [==============================] - 1s 92us/step - loss: 0.1958 - acc: 0.9548 - val_loss: 0.3471 - val_acc: 0.8836\n",
      "Epoch 9/20\n",
      "15000/15000 [==============================] - 1s 92us/step - loss: 0.1888 - acc: 0.9581 - val_loss: 0.3553 - val_acc: 0.8834\n",
      "Epoch 10/20\n",
      "15000/15000 [==============================] - 1s 91us/step - loss: 0.1795 - acc: 0.9600 - val_loss: 0.3686 - val_acc: 0.8758\n",
      "Epoch 11/20\n",
      "15000/15000 [==============================] - 1s 92us/step - loss: 0.1729 - acc: 0.9655 - val_loss: 0.3794 - val_acc: 0.8813\n",
      "Epoch 12/20\n",
      "15000/15000 [==============================] - 1s 93us/step - loss: 0.1683 - acc: 0.9669 - val_loss: 0.3761 - val_acc: 0.8788\n",
      "Epoch 13/20\n",
      "15000/15000 [==============================] - 1s 93us/step - loss: 0.1650 - acc: 0.9664 - val_loss: 0.3919 - val_acc: 0.8740\n",
      "Epoch 14/20\n",
      "15000/15000 [==============================] - 1s 92us/step - loss: 0.1566 - acc: 0.9717 - val_loss: 0.3909 - val_acc: 0.8768\n",
      "Epoch 15/20\n",
      "15000/15000 [==============================] - 1s 92us/step - loss: 0.1573 - acc: 0.9697 - val_loss: 0.4025 - val_acc: 0.8728\n",
      "Epoch 16/20\n",
      "15000/15000 [==============================] - 1s 91us/step - loss: 0.1528 - acc: 0.9716 - val_loss: 0.4131 - val_acc: 0.8695\n",
      "Epoch 17/20\n",
      "15000/15000 [==============================] - 1s 92us/step - loss: 0.1470 - acc: 0.9748 - val_loss: 0.4596 - val_acc: 0.8638\n",
      "Epoch 18/20\n",
      "15000/15000 [==============================] - 1s 93us/step - loss: 0.1424 - acc: 0.9759 - val_loss: 0.4465 - val_acc: 0.8705\n",
      "Epoch 19/20\n",
      "15000/15000 [==============================] - 1s 93us/step - loss: 0.1436 - acc: 0.9759 - val_loss: 0.4266 - val_acc: 0.8698\n",
      "Epoch 20/20\n",
      "15000/15000 [==============================] - 1s 92us/step - loss: 0.1355 - acc: 0.9800 - val_loss: 0.4267 - val_acc: 0.8742\n"
     ]
    }
   ],
   "source": [
    "model_l2.compile(optimizer='rmsprop',\n",
    "             loss='binary_crossentropy',\n",
    "             metrics=['acc'])\n",
    "\n",
    "history_l2 = model_l2.fit(partial_x_train,\n",
    "                   partial_y_train,\n",
    "                   epochs = 20,\n",
    "                   batch_size=512,\n",
    "                    validation_data=(x_val,y_val))"
   ]
  },
  {
   "cell_type": "code",
   "execution_count": 18,
   "metadata": {},
   "outputs": [
    {
     "data": {
      "image/png": "[encoded data removed]",
      "text/plain": [
       "<Figure size 432x288 with 1 Axes>"
      ]
     },
     "metadata": {},
     "output_type": "display_data"
    }
   ],
   "source": [
    "history_dict_l2 = history_l2.history\n",
    "historyBig_dict = historyBig.history\n",
    "loss_values_l2 = history_dict_l2['loss']\n",
    "loss_values_big = historyBig_dict['loss']\n",
    "val_loss_values_l2 = history_dict_l2['val_loss']\n",
    "val_loss_values_big = historyBig_dict['val_loss']\n",
    "history_dict = history.history\n",
    "loss_values = history_dict['loss']\n",
    "val_loss_values = history_dict['val_loss']\n",
    "\n",
    "epochs = range(1, len(loss_values_big) + 1)\n",
    "\n",
    "plt.plot(epochs, val_loss_values_l2, 'bo', label='L2-regularized model')\n",
    "plt.plot(epochs, val_loss_values_big, 'b+', label='Original model')\n",
    "plt.plot(epochs, val_loss_values, 'r*', label='Smaller model')\n",
    "plt.xlabel('Epochs')\n",
    "plt.ylabel('Validation loss')\n",
    "plt.legend()\n",
    "\n",
    "plt.show()"
   ]
  },
  {
   "cell_type": "code",
   "execution_count": 19,
   "metadata": {},
   "outputs": [],
   "source": [
    "model_do = models.Sequential()\n",
    "model_do.add(layers.Dense(16, activation='relu', input_shape=(10000,)))\n",
    "model_do.add(layers.Dropout(0.5))\n",
    "model_do.add(layers.Dense(16, activation='relu'))\n",
    "model_do.add(layers.Dropout(0.5))\n",
    "model_do.add(layers.Dense(1, activation='sigmoid'))"
   ]
  },
  {
   "cell_type": "code",
   "execution_count": 20,
   "metadata": {},
   "outputs": [
    {
     "name": "stdout",
     "output_type": "stream",
     "text": [
      "Train on 15000 samples, validate on 10000 samples\n",
      "Epoch 1/20\n",
      "15000/15000 [==============================] - 2s 119us/step - loss: 0.6383 - acc: 0.6236 - val_loss: 0.5497 - val_acc: 0.8381\n",
      "Epoch 2/20\n",
      "15000/15000 [==============================] - 1s 95us/step - loss: 0.5392 - acc: 0.7463 - val_loss: 0.4584 - val_acc: 0.8383\n",
      "Epoch 3/20\n",
      "15000/15000 [==============================] - 1s 97us/step - loss: 0.4616 - acc: 0.8129 - val_loss: 0.4049 - val_acc: 0.8526\n",
      "Epoch 4/20\n",
      "15000/15000 [==============================] - 2s 101us/step - loss: 0.4007 - acc: 0.8477 - val_loss: 0.3372 - val_acc: 0.8834\n",
      "Epoch 5/20\n",
      "15000/15000 [==============================] - 1s 99us/step - loss: 0.3480 - acc: 0.8749 - val_loss: 0.3140 - val_acc: 0.8842\n",
      "Epoch 6/20\n",
      "15000/15000 [==============================] - 1s 99us/step - loss: 0.3063 - acc: 0.8989 - val_loss: 0.3048 - val_acc: 0.8868\n",
      "Epoch 7/20\n",
      "15000/15000 [==============================] - 1s 100us/step - loss: 0.2686 - acc: 0.9145 - val_loss: 0.3007 - val_acc: 0.8871\n",
      "Epoch 8/20\n",
      "15000/15000 [==============================] - 1s 97us/step - loss: 0.2446 - acc: 0.9274 - val_loss: 0.2937 - val_acc: 0.8831\n",
      "Epoch 9/20\n",
      "15000/15000 [==============================] - 1s 96us/step - loss: 0.2218 - acc: 0.9349 - val_loss: 0.3047 - val_acc: 0.8843\n",
      "Epoch 10/20\n",
      "15000/15000 [==============================] - 1s 98us/step - loss: 0.1960 - acc: 0.9439 - val_loss: 0.3337 - val_acc: 0.8876\n",
      "Epoch 11/20\n",
      "15000/15000 [==============================] - 1s 97us/step - loss: 0.1826 - acc: 0.9483 - val_loss: 0.3496 - val_acc: 0.8861\n",
      "Epoch 12/20\n",
      "15000/15000 [==============================] - 1s 98us/step - loss: 0.1734 - acc: 0.9513 - val_loss: 0.3417 - val_acc: 0.8776\n",
      "Epoch 13/20\n",
      "15000/15000 [==============================] - 2s 101us/step - loss: 0.1530 - acc: 0.9584 - val_loss: 0.3930 - val_acc: 0.8832\n",
      "Epoch 14/20\n",
      "15000/15000 [==============================] - 2s 100us/step - loss: 0.1408 - acc: 0.9639 - val_loss: 0.3711 - val_acc: 0.8799\n",
      "Epoch 15/20\n",
      "15000/15000 [==============================] - 1s 97us/step - loss: 0.1339 - acc: 0.9653 - val_loss: 0.4060 - val_acc: 0.8823\n",
      "Epoch 16/20\n",
      "15000/15000 [==============================] - 1s 98us/step - loss: 0.1238 - acc: 0.9703 - val_loss: 0.4155 - val_acc: 0.8794\n",
      "Epoch 17/20\n",
      "15000/15000 [==============================] - 1s 96us/step - loss: 0.1137 - acc: 0.9717 - val_loss: 0.5004 - val_acc: 0.8811\n",
      "Epoch 18/20\n",
      "15000/15000 [==============================] - 1s 96us/step - loss: 0.1124 - acc: 0.9727 - val_loss: 0.4665 - val_acc: 0.8832\n",
      "Epoch 19/20\n",
      "15000/15000 [==============================] - 1s 97us/step - loss: 0.1047 - acc: 0.9735 - val_loss: 0.4812 - val_acc: 0.8801\n",
      "Epoch 20/20\n",
      "15000/15000 [==============================] - 1s 97us/step - loss: 0.1039 - acc: 0.9756 - val_loss: 0.5312 - val_acc: 0.8817\n"
     ]
    }
   ],
   "source": [
    "model_do.compile(optimizer='rmsprop',\n",
    "             loss='binary_crossentropy',\n",
    "             metrics=['acc'])\n",
    "\n",
    "history_do = model_do.fit(partial_x_train,\n",
    "                   partial_y_train,\n",
    "                   epochs = 20,\n",
    "                   batch_size=512,\n",
    "                    validation_data=(x_val,y_val))"
   ]
  },
  {
   "cell_type": "code",
   "execution_count": 23,
   "metadata": {},
   "outputs": [
    {
     "data": {
      "image/png": "[encoded data removed]",
      "text/plain": [
       "<Figure size 432x288 with 1 Axes>"
      ]
     },
     "metadata": {},
     "output_type": "display_data"
    }
   ],
   "source": [
    "history_dict_do = history_do.history\n",
    "loss_values_do = history_dict_do['loss']\n",
    "val_loss_values_do = history_dict_do['val_loss']\n",
    "\n",
    "epochs = range(1, len(loss_values_do) + 1)\n",
    "\n",
    "plt.plot(epochs, val_loss_values_l2, 'bo', label='L2-regularized model')\n",
    "plt.plot(epochs, val_loss_values_big, 'b+', label='Original model')\n",
    "plt.plot(epochs, val_loss_values, 'r*', label='Smaller model')\n",
    "\n",
    "plt.xlabel('Epochs')\n",
    "plt.ylabel('Validation loss')\n",
    "plt.legend()\n",
    "\n",
    "plt.show()"
   ]
  },
  {
   "cell_type": "code",
   "execution_count": null,
   "metadata": {},
   "outputs": [],
   "source": []
  }
 ],
 "metadata": {
  "kernelspec": {
   "display_name": "Python [default]",
   "language": "python",
   "name": "python3"
  },
  "language_info": {
   "codemirror_mode": {
    "name": "ipython",
    "version": 3
   },
   "file_extension": ".py",
   "mimetype": "text/x-python",
   "name": "python",
   "nbconvert_exporter": "python",
   "pygments_lexer": "ipython3",
   "version": "3.6.4"
  }
 },
 "nbformat": 4,
 "nbformat_minor": 2
}
